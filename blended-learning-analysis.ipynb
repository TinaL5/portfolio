{
 "cells": [
  {
   "cell_type": "markdown",
   "metadata": {
    "slideshow": {
     "slide_type": "skip"
    }
   },
   "source": [
    "This is a slide show in Jupyter notebook format.<br>\n",
    "The notebook is organized into a series of editable cells that can hold text, images, and code.\n",
    "\n",
    "To start, select `Kernel` from the menu bar and choose `Restart & Run All`.<br>\n",
    "Confirm by clicking the `Restart and Run All Cells` button.\n",
    "\n",
    "Return to the top of the notebook and click the first cell.\n",
    "\n",
    "To start the slide show, click on the icon in the menu bar that looks like a bar chart, as shown here. \n",
    "<img src=\"images/slideshow_icon.png\"\n",
    "     alt=\"slide show icon\"\n",
    "     width=100 />\n",
    "     \n",
    "You can advance the slide show by using the `space bar`. Use `Shift+SpaceBar` to go backward.<br>\n",
    "Exit by clicking on the `X` in the top left corner of the slide show. \n",
    "\n",
    "Note that the slide show is a live Jupyter notebook, so you can run the code and edit while in the slide show. Click on and hover over visualizations for interactivity."
   ]
  },
  {
   "cell_type": "code",
   "execution_count": null,
   "metadata": {
    "slideshow": {
     "slide_type": "skip"
    }
   },
   "outputs": [],
   "source": [
    "import pandas as pd\n",
    "from pandas import read_csv\n",
    "import plotly.express as px\n",
    "from plotly import subplots\n",
    "from plotly.offline import download_plotlyjs, plot,iplot"
   ]
  },
  {
   "cell_type": "markdown",
   "metadata": {
    "slideshow": {
     "slide_type": "slide"
    }
   },
   "source": [
    "<h1>Blended Learning Design:<br>Data Science Analysis Process</h1>\n",
    "<h2>Data Literacy through Sports Analytics</h2>\n",
    "\n",
    "<h3>Tina Leard<br>"
   ]
  },
  {
   "cell_type": "markdown",
   "metadata": {
    "slideshow": {
     "slide_type": "slide"
    }
   },
   "source": [
    "<center><img src='./images/field_hockey_game.png' alt=\"Field hockey\" width='90%' /></center>"
   ]
  },
  {
   "cell_type": "markdown",
   "metadata": {
    "slideshow": {
     "slide_type": "slide"
    }
   },
   "source": [
    "<center><img src='./images/understand1.png' alt=\"Understand actions\" width='90%' /></center>"
   ]
  },
  {
   "cell_type": "markdown",
   "metadata": {
    "slideshow": {
     "slide_type": "slide"
    }
   },
   "source": [
    "<center><img src='./images/understand.png' alt=\"Understand viewpoints\" width='90%' /></center>"
   ]
  },
  {
   "cell_type": "markdown",
   "metadata": {
    "slideshow": {
     "slide_type": "-"
    }
   },
   "source": [
    "#### Notes on phases of play\n",
    "\n",
    "Attacking transition\n",
    "- recovery of the ball\n",
    "- structure play quickly to transition to an attack phase of play\n",
    "\n",
    "Attack\n",
    "- in possession of the ball\n",
    "- structured play to score\n",
    "\n",
    "Defensive transition\n",
    "- loss of the ball\n",
    "- structure play quickly to transition to a defense phase of play\n",
    "\n",
    "Defense\n",
    "- no ball possession\n",
    "- structured play to recover ball\n",
    "\n",
    "\n",
    "(Field Hockey Canada, 2020)"
   ]
  },
  {
   "cell_type": "markdown",
   "metadata": {
    "slideshow": {
     "slide_type": "slide"
    }
   },
   "source": [
    "<center><img src='./images/gather4.png' alt=\"Gather\" width='90%' /></center>"
   ]
  },
  {
   "cell_type": "markdown",
   "metadata": {
    "slideshow": {
     "slide_type": "-"
    }
   },
   "source": [
    "The four horizontal zones divide the field into upfield and downfield sections.\n",
    "\n",
    "The five vertical zones divide the field into outer zones on the edges of the field and inner zones that lead to the opponent's circle. Scoring must occur from the circle.\n",
    "\n",
    "Different player behaviour occurs per zone within a strategic system.\n",
    "\n",
    "(Field Hockey Alberta, 2020)"
   ]
  },
  {
   "cell_type": "markdown",
   "metadata": {
    "slideshow": {
     "slide_type": "slide"
    }
   },
   "source": [
    "<center><img src='./images/collection_passing.png' alt=\"Passing\" width='83%' /></center>\n",
    "<p style=\"font-size: 12px;\">Data source: <a href = \"https://youtu.be/mIwiiJO7Rk4\" target=\"_blank\">2019 U18 Gold Field Hockey Nationals video</a>"
   ]
  },
  {
   "cell_type": "markdown",
   "metadata": {
    "slideshow": {
     "slide_type": "-"
    }
   },
   "source": [
    "Data were collected by hand from observational tallies of video game play. This method was selected to promote the transition from student-collected small datasets towards the skills needed to work with larger datasets. While this method of data collection can be less reliable, students are afforded the opportunity to work with data that is personally meaningful to them while they build skills in the data science analysis process; students recognize how data are collected and how those data are transformed for data analysis with technology. The integration of video also supports the type of analysis conducted at the professional level.\n",
    "\n",
    "Actions were tallied per zone for each quarter for both home and away teams. The home team attacked upfield the first half (quarter 1 & quarter 2) and downfield for the second half (quarter 3 & quarter 4)."
   ]
  },
  {
   "cell_type": "markdown",
   "metadata": {
    "slideshow": {
     "slide_type": "slide"
    }
   },
   "source": [
    "<center><img src='./images/collection_circle_entries.png' alt=\"Circle entries\" width='83%' /></center>\n",
    "<p style=\"font-size: 12px;\">Data source: <a href = \"https://youtu.be/mIwiiJO7Rk4\" target=\"_blank\">2019 U18 Gold Field Hockey Nationals video</a>"
   ]
  },
  {
   "cell_type": "markdown",
   "metadata": {
    "slideshow": {
     "slide_type": "-"
    }
   },
   "source": [
    "Time of ball possession was measured per quarter.\n",
    "\n",
    "Division of the circle is based on the inner lanes and levels of proximity to the net, making 9 circle zones. Entries are indicated per quarter per zone."
   ]
  },
  {
   "cell_type": "markdown",
   "metadata": {
    "slideshow": {
     "slide_type": "slide"
    }
   },
   "source": [
    "## 3. Organize"
   ]
  },
  {
   "cell_type": "code",
   "execution_count": null,
   "metadata": {
    "scrolled": false,
    "slideshow": {
     "slide_type": "-"
    }
   },
   "outputs": [],
   "source": [
    "import pandas as pd\n",
    "from pandas import read_csv\n",
    "possession_df = read_csv('data/field_hockey_possession.csv')\n",
    "possession_df.head(8)"
   ]
  },
  {
   "cell_type": "markdown",
   "metadata": {
    "slideshow": {
     "slide_type": "-"
    }
   },
   "source": [
    "This dataframe comprises possession time per quarter per team. Total counts for circle entries, passes received, shot attempts, and interceptions on the opponent are also present."
   ]
  },
  {
   "cell_type": "markdown",
   "metadata": {
    "slideshow": {
     "slide_type": "slide"
    }
   },
   "source": [
    "## 4. Explore: <br>How can the data be analyzed to represent viewpoints?"
   ]
  },
  {
   "cell_type": "markdown",
   "metadata": {
    "slideshow": {
     "slide_type": "-"
    }
   },
   "source": [
    "**Attack viewpoint: How does ball possession<br>time affect the outcomes of the game?**"
   ]
  },
  {
   "cell_type": "code",
   "execution_count": null,
   "metadata": {
    "scrolled": false,
    "slideshow": {
     "slide_type": "-"
    }
   },
   "outputs": [],
   "source": [
    "px.bar(possession_df,x=\"Possession (seconds)\",y=\"Quarter\",title=\"Possession per quarter<br>Home 2 shots on net (quarter 3); Away 1 shot on net (quarter 1)\",color=\"Team\")"
   ]
  },
  {
   "cell_type": "markdown",
   "metadata": {
    "slideshow": {
     "slide_type": "-"
    }
   },
   "source": [
    "Each quarter is 900 seconds (15 minutes x 60 seconds).\n",
    "\n",
    "Away dominates in ball possession across all quarters.\n",
    "\n",
    "Home's highest ball possession occurs in the third quarter with 2 shots on net."
   ]
  },
  {
   "cell_type": "markdown",
   "metadata": {
    "slideshow": {
     "slide_type": "slide"
    }
   },
   "source": [
    "**Attack and defense viewpoints:\n",
    "<br>How do actions compare between teams and across quarters?**"
   ]
  },
  {
   "cell_type": "code",
   "execution_count": null,
   "metadata": {
    "scrolled": false,
    "slideshow": {
     "slide_type": "-"
    }
   },
   "outputs": [],
   "source": [
    "px.line(possession_df,\n",
    "                    x=\"Quarter\", y=\"Passes received\", \n",
    "                    color=\"Team\", hover_data=['Possession (seconds)'], \n",
    "                    title=\"Attack: Passes received per quarter\")"
   ]
  },
  {
   "cell_type": "markdown",
   "metadata": {
    "slideshow": {
     "slide_type": "-"
    }
   },
   "source": [
    "Frequency counts for passes received are higher for Home than Away across quarters. In the first quarter, Home successfully receives 49 passes while, in the fourth quarter, Home receives 29 passes."
   ]
  },
  {
   "cell_type": "code",
   "execution_count": null,
   "metadata": {
    "scrolled": false,
    "slideshow": {
     "slide_type": "slide"
    }
   },
   "outputs": [],
   "source": [
    "px.line(possession_df,\n",
    "                    x=\"Quarter\", y=\"Circle entries\", \n",
    "                    color=\"Team\", hover_data=['Possession (seconds)'], \n",
    "                    title=\"Attack: Circle entries per quarter\")"
   ]
  },
  {
   "cell_type": "markdown",
   "metadata": {
    "slideshow": {
     "slide_type": "-"
    }
   },
   "source": [
    "Frequency counts for circle entries increase over quarters for Home with 2 entries occurring in the first quarter and 9 entries occurring in the fourth quarter.\n",
    "\n",
    "Entries for Away peak mid-game with 0 entries occurring in the final quarter."
   ]
  },
  {
   "cell_type": "code",
   "execution_count": null,
   "metadata": {
    "scrolled": false,
    "slideshow": {
     "slide_type": "slide"
    }
   },
   "outputs": [],
   "source": [
    "px.line(possession_df,\n",
    "                    x=\"Quarter\", y=\"Interceptions\", \n",
    "                    color=\"Team\", hover_data=['Possession (seconds)'], \n",
    "                    title=\"Defense: Interceptions per quarter\")"
   ]
  },
  {
   "cell_type": "markdown",
   "metadata": {
    "slideshow": {
     "slide_type": "-"
    }
   },
   "source": [
    "Both Home and Away start with 8 interceptions in the first quarter and 10 interceptions in the second quarter. Second half, interceptions decrease for both teams with only 2 interceptions by Away on Home in the fourth quarter."
   ]
  },
  {
   "cell_type": "code",
   "execution_count": null,
   "metadata": {
    "scrolled": false,
    "slideshow": {
     "slide_type": "slide"
    }
   },
   "outputs": [],
   "source": [
    "posession_passes_df = px.scatter(possession_df,\n",
    "                    x=\"Possession (seconds)\", y=\"Circle entries\",\n",
    "                    size=\"Interceptions\", color=\"Team\", hover_data=['Quarter'],\n",
    "                    title=\"Relationship between possession time and circle entries\")\n",
    "posession_passes_df.show()"
   ]
  },
  {
   "cell_type": "markdown",
   "metadata": {
    "slideshow": {
     "slide_type": "-"
    }
   },
   "source": [
    "Under the assumption that the objective of the game is to recover the ball from the opponent and to maintain ball possession to enter the circle and score, we can explore possession time of the ball with different defensive and attacking actions.\n",
    "\n",
    "This visualization plots the relationship between possession time and circle entries (attack) with a third variable, interceptions (defense), visualized through the size of the markers. Clustering occurs as a result of Away possessing the ball more than Home across all 4 quarters.\n",
    "\n",
    "Notice that the relationship between ball possession and circle entries for both teams is positive; however, the relationship for Home is stronger with a visible increase in circle entries during the second half.\n",
    "\n",
    "Home intercepts Away and recovers the ball more frequently during the first half when Home experiences both fewer circle entries and less ball possession.\n",
    "\n",
    "An outlier is visible for Away's events during the fourth quarter when Away does not penetrate the circle and only intercepts Home twice while possessing the ball 510 seconds. During the fourth quarter, Home's possession time is 390 seconds with 9 circle entries and 5 interceptions on Away."
   ]
  },
  {
   "cell_type": "markdown",
   "metadata": {
    "slideshow": {
     "slide_type": "slide"
    }
   },
   "source": [
    "#### Extension: Statistics and matrix scatter plot"
   ]
  },
  {
   "cell_type": "code",
   "execution_count": null,
   "metadata": {
    "scrolled": false,
    "slideshow": {
     "slide_type": "-"
    }
   },
   "outputs": [],
   "source": [
    "possession_home_df = possession_df[possession_df['Team']=='Home'] # Change 'Home' to 'Away' to analyze Away's actions\n",
    "possession_home_df.head()  "
   ]
  },
  {
   "cell_type": "code",
   "execution_count": null,
   "metadata": {
    "scrolled": true,
    "slideshow": {
     "slide_type": "slide"
    }
   },
   "outputs": [],
   "source": [
    "possession_home_df.corr()"
   ]
  },
  {
   "cell_type": "markdown",
   "metadata": {
    "slideshow": {
     "slide_type": "-"
    }
   },
   "source": [
    "For Home, notice the high correlation between possession and circle entries (r=0.81) as well as possession and shot attempts (r=0.80). There is also a postive relationship between circle entries and shot attempts (r=0.45).\n",
    "\n",
    "Relationships between passes received and other actions as well as interceptions and other actions are weak or negative.\n",
    "\n",
    "While ball possession strongly correlates to circle entries and shot attempts, passes received as well as interceptions do not correlate strongly with other actions. \n",
    "\n",
    "For Home's performance during this game, success as defined by circle entries and attempts on net, strategy might consider that it is not necessarily how you get the ball but what you do with the ball once you have it, illustrating the importance of the attack phase of play.\n",
    "\n",
    "The scatter matrix below visualizes these relationships. Notice the success experienced by home in the second half for possession, circle entries, and attempts on net."
   ]
  },
  {
   "cell_type": "code",
   "execution_count": null,
   "metadata": {
    "scrolled": false,
    "slideshow": {
     "slide_type": "-"
    }
   },
   "outputs": [],
   "source": [
    "px.scatter_matrix(possession_home_df, \n",
    "                  dimensions=[\"Possession (seconds)\", \"Circle entries\", \"Passes received\", \"Shot attempts\"], \n",
    "                  color=\"Quarter\", hover_data=[\"Passes received\"], title=\"Relationship between possession time and actions for Home\",\n",
    "                    labels={\"Circle entries\":\"Entries\", \"Shot attempts\":\"Attempts\", \"Possession (seconds)\":\"Possession (s)\"})"
   ]
  },
  {
   "cell_type": "markdown",
   "metadata": {
    "slideshow": {
     "slide_type": "slide"
    }
   },
   "source": [
    "### 3. Organize and 4. Explore passes by Home\n",
    "\n",
    "What stays the same and what changes across zones?\n",
    "\n",
    "Although passes received do not strongly correlate with other actions in the dataset, we can still examine where passes were received on the field to explore on-field ball possession."
   ]
  },
  {
   "cell_type": "code",
   "execution_count": null,
   "metadata": {
    "scrolled": true,
    "slideshow": {
     "slide_type": "-"
    }
   },
   "outputs": [],
   "source": [
    "df_passes_home = pd.read_csv('data/field_hockey_home_passes.csv'); df_passes_home"
   ]
  },
  {
   "cell_type": "code",
   "execution_count": null,
   "metadata": {
    "scrolled": true,
    "slideshow": {
     "slide_type": "slide"
    }
   },
   "outputs": [],
   "source": [
    "px.pie(df_passes_home,values=\"Count\",names=\"Action\",\n",
    "       title=\"Passes received, intercepted, and missed by Home team\")"
   ]
  },
  {
   "cell_type": "code",
   "execution_count": null,
   "metadata": {
    "slideshow": {
     "slide_type": "slide"
    }
   },
   "outputs": [],
   "source": [
    "df_passes_home = df_passes_home[df_passes_home['Action']=='pass received']\n",
    "df_passes_home.head()  "
   ]
  },
  {
   "cell_type": "code",
   "execution_count": null,
   "metadata": {
    "slideshow": {
     "slide_type": "slide"
    }
   },
   "outputs": [],
   "source": [
    "px.bar(df_passes_home, x=\"Quarter\", y=\"Count\", \n",
    "       color=\"Action\", facet_col=\"Lane\", facet_row=\"Zone\", \n",
    "       title=\"Passes received per quarter by zone\")"
   ]
  },
  {
   "cell_type": "markdown",
   "metadata": {
    "slideshow": {
     "slide_type": "-"
    }
   },
   "source": [
    "#### Passes in left outside lane of the opponent's net\n",
    "Upfield attack during first half and downfield attack during second half\n",
    "\n",
    "|||||\n",
    "|---|---|---|---|\n",
    "|**Quarter 1: 29%** (14/49)|**Quarter 2: 41%** (13/32)|**Quarter 3: 38%** (16/42)|**Quarter 4: 28%** (8/29)|"
   ]
  },
  {
   "cell_type": "markdown",
   "metadata": {
    "slideshow": {
     "slide_type": "slide"
    }
   },
   "source": [
    "## 5. Interpret<br> How can the data exploration inform decision making?\n",
    "\n",
    "> - focussing on the attack phase of play\n",
    "> - dominating play by keeping the ball out of the zone near the opponent's net\n",
    "> - attacking on the outer lanes, especially toward the left side of the opponent's net"
   ]
  },
  {
   "cell_type": "markdown",
   "metadata": {
    "slideshow": {
     "slide_type": "slide"
    }
   },
   "source": [
    "## 6. Communicate \n",
    "Discuss results within the team and decide strategies for practice and game play."
   ]
  },
  {
   "cell_type": "markdown",
   "metadata": {
    "slideshow": {
     "slide_type": "slide"
    }
   },
   "source": [
    "### References\n",
    "\n",
    "Field Hockey Alberta (2020). *Tactical Seminars*. http://www.fieldhockey.ab.ca/content/tactical-seminars\n",
    "\n",
    "Field Hockey Canada (2020). *Ahead of the Game*. http://www.fieldhockey.ca/ahead-of-the-game-field-hockey-canada-webinar-series/"
   ]
  }
 ],
 "metadata": {
  "celltoolbar": "Slideshow",
  "kernelspec": {
   "display_name": "Python 3",
   "language": "python",
   "name": "python3"
  },
  "language_info": {
   "codemirror_mode": {
    "name": "ipython",
    "version": 3
   },
   "file_extension": ".py",
   "mimetype": "text/x-python",
   "name": "python",
   "nbconvert_exporter": "python",
   "pygments_lexer": "ipython3",
   "version": "3.8.8"
  },
  "rise": {
   "enable_chalkboard": true,
   "scroll": true,
   "transition": "none"
  }
 },
 "nbformat": 4,
 "nbformat_minor": 4
}
